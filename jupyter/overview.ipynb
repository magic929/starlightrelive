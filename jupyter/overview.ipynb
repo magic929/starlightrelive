{
 "cells": [
  {
   "cell_type": "code",
   "execution_count": 6,
   "metadata": {},
   "outputs": [
    {
     "output_type": "stream",
     "name": "stdout",
     "text": "['c:\\\\Users\\\\nyanm\\\\.vscode\\\\extensions\\\\ms-python.python-2020.4.76186\\\\pythonFiles', 'c:\\\\Users\\\\nyanm\\\\.vscode\\\\extensions\\\\ms-python.python-2020.4.76186\\\\pythonFiles\\\\lib\\\\python', 'g:\\\\michru\\\\.venv\\\\Scripts\\\\python36.zip', 'C:\\\\Python36\\\\DLLs', 'C:\\\\Python36\\\\lib', 'C:\\\\Python36', 'g:\\\\michru\\\\.venv', '', 'g:\\\\michru\\\\.venv\\\\lib\\\\site-packages', 'g:\\\\michru\\\\.venv\\\\lib\\\\site-packages\\\\win32', 'g:\\\\michru\\\\.venv\\\\lib\\\\site-packages\\\\win32\\\\lib', 'g:\\\\michru\\\\.venv\\\\lib\\\\site-packages\\\\Pythonwin', 'g:\\\\michru\\\\.venv\\\\lib\\\\site-packages\\\\IPython\\\\extensions', 'C:\\\\Users\\\\nyanm\\\\.ipython']\n"
    }
   ],
   "source": [
    "import sys\n",
    "print(sys.path)\n",
    "sys.path.append('G:\\michru')"
   ]
  },
  {
   "cell_type": "code",
   "execution_count": 7,
   "metadata": {},
   "outputs": [],
   "source": [
    "from utils.sql_ops import LevelOps\n",
    "import pandas as pd\n",
    "import numpy as np"
   ]
  },
  {
   "cell_type": "code",
   "execution_count": null,
   "metadata": {},
   "outputs": [],
   "source": []
  }
 ],
 "metadata": {
  "language_info": {
   "codemirror_mode": {
    "name": "ipython",
    "version": 3
   },
   "file_extension": ".py",
   "mimetype": "text/x-python",
   "name": "python",
   "nbconvert_exporter": "python",
   "pygments_lexer": "ipython3",
   "version": "3.6.3-final"
  },
  "orig_nbformat": 2,
  "kernelspec": {
   "name": "python36364bitvenvvenve91d3e556ae849ffa059e0679a3ea2bf",
   "display_name": "Python 3.6.3 64-bit ('.venv': venv)"
  }
 },
 "nbformat": 4,
 "nbformat_minor": 2
}
{
 "cells": [
  {
   "cell_type": "code",
   "execution_count": 1,
   "metadata": {},
   "outputs": [
    {
     "output_type": "stream",
     "name": "stdout",
     "text": "['g:\\\\michru\\\\jupyter', 'c:\\\\Users\\\\nyanm\\\\.vscode\\\\extensions\\\\ms-python.python-2020.4.76186\\\\pythonFiles', 'c:\\\\Users\\\\nyanm\\\\.vscode\\\\extensions\\\\ms-python.python-2020.4.76186\\\\pythonFiles\\\\lib\\\\python', 'g:\\\\michru\\\\.venv\\\\Scripts\\\\python36.zip', 'C:\\\\Python36\\\\DLLs', 'C:\\\\Python36\\\\lib', 'C:\\\\Python36', 'g:\\\\michru\\\\.venv', '', 'g:\\\\michru\\\\.venv\\\\lib\\\\site-packages', 'g:\\\\michru\\\\.venv\\\\lib\\\\site-packages\\\\win32', 'g:\\\\michru\\\\.venv\\\\lib\\\\site-packages\\\\win32\\\\lib', 'g:\\\\michru\\\\.venv\\\\lib\\\\site-packages\\\\Pythonwin', 'g:\\\\michru\\\\.venv\\\\lib\\\\site-packages\\\\IPython\\\\extensions', 'C:\\\\Users\\\\nyanm\\\\.ipython']\n"
    }
   ],
   "source": [
    "import sys\n",
    "print(sys.path)\n",
    "sys.path.append('G:\\michru')"
   ]
  },
  {
   "cell_type": "code",
   "execution_count": 44,
   "metadata": {},
   "outputs": [],
   "source": [
    "from utils.sql_ops import LevelOps\n",
    "import pandas as pd\n",
    "import numpy as np\n",
    "import sqlite3"
   ]
  },
  {
   "cell_type": "code",
   "execution_count": 3,
   "metadata": {},
   "outputs": [],
   "source": [
    "class SqlOps():\n",
    "    def __init__(self):\n",
    "        self.conn = sqlite3.connect('starlightRe.db')\n",
    "        self.c = self.conn.cursor()\n",
    "    \n",
    "    def create(self, cols, types, primary):\n",
    "        ct = []\n",
    "        for c, t in zip(cols, types):\n",
    "            ct.append(\"{} {}\".format(c, t))\n",
    "        sqls = 'CREATE TABLE IF NOT EXISTS {} ({}, PRIMARY KEY ({}))'.format(self.table, ','.join(ct), primary)\n",
    "        try: \n",
    "            self.c.execute(sqls)\n",
    "        except Exception as e:\n",
    "            print(\"error: \", e)\n",
    "            return 0            \n",
    "        return 1\n",
    "    \n",
    "    def insert(self, data):\n",
    "        sqls = 'INSERT OR IGNORE INTO ' + self.table + ' VALUES ({}?)'.format('?,'*(len(data[0]) - 1))\n",
    "        print(sqls)\n",
    "        try:\n",
    "            self.c.executemany(sqls, iter(data))\n",
    "            self.conn.commit()\n",
    "        except Exception as e:\n",
    "            print(\"error: \", e)\n",
    "            self.conn.rollback()\n",
    "    \n",
    "    def find_all(self):\n",
    "        sqls = 'SELECT * FROM {}'.format(self.table)\n",
    "        results = self.c.execute(sqls)\n",
    "        return results\n",
    "    \n",
    "    def update(self):\n",
    "        pass\n",
    "    \n",
    "    def delete(self):\n",
    "        pass\n",
    "\n",
    "    def close(self):\n",
    "        self.c.close()\n",
    "        self.conn.close()"
   ]
  },
  {
   "cell_type": "code",
   "execution_count": 4,
   "metadata": {},
   "outputs": [],
   "source": [
    "class DressOps(SqlOps):\n",
    "    def __init__(self):\n",
    "        super(DressOps, self).__init__()\n",
    "        self.table = 'dress'\n",
    "    \n",
    "    def find_all(self):\n",
    "        sqls = 'SELECT * FROM {}'.format(self.table)\n",
    "        df = pd.read_sql_query(sqls, self.conn)\n",
    "        return df"
   ]
  },
  {
   "cell_type": "code",
   "execution_count": 29,
   "metadata": {},
   "outputs": [],
   "source": [
    "Dress = DressOps()\n",
    "ddata = Dress.find_all()"
   ]
  },
  {
   "cell_type": "code",
   "execution_count": 21,
   "metadata": {},
   "outputs": [
    {
     "output_type": "execute_result",
     "data": {
      "text/plain": "        id      name  chara_id  cost  base_agi  base_rarity growth_board3_id  \\\n0  1010001    聖翔音楽学園       101     6        94            2         11101301   \n1  1010002   太陽の国の騎士       101     9       129            3         11105301   \n2  1010003  銃士ダルタニャン       101    12       165            4         11106301   \n3  1020001    聖翔音楽学園       102     6       120            2         11101301   \n4  1020002  黒獅子の国の騎士       102     9       139            3         11105301   \n\n   base_pdef  delta_agi  dex  ... hit  base_mdef growth_board2_id  \\\n0         77       1560    5  ...   0         75         11101201   \n1         58       2130    5  ...   0         90         11105201   \n2         74       2730    5  ...   0         78         11106201   \n3         53       1990    5  ...   0         51         11101201   \n4         77       2290    5  ...   0         52         11105201   \n\n   growth_board9_id  command_skill3_id published_at  command_unique_skill_id  \\\n0          11101901                 11   1540105200                       12   \n1          11105901                 16   1540105200                       17   \n2          11106901                 21   1540105200                       22   \n3          11101901                 26   1540105200                       27   \n4          11105901                 31   1540105200                       32   \n\n  dress_type base_hp                                        description  \n0          0    1336          みんなを守る盾役。通常ダメージを防ぐバリアを張ることで長く舞台に残ることができる。  \n1          0    1128  バランス良いステータスを持つため、様々なステージで活躍できる。敵役単体に大ダメージを与えるク...  \n2          0    1007  高いACTパワーを持ち、ダメージを与えるのが得意。敵役の防御力を下げつつ、自ら全体攻撃のクラ...  \n3          0     794  高いACTパワーを持ち、ダメージを与えるのが得意。敵役のACTパワーを低下させるクライマック...  \n4          0     900  高いACTパワーを持ち、ダメージを与えるのが得意。クライマックスACTで敵役にダメージを与え...  \n\n[5 rows x 46 columns]",
      "text/html": "<div>\n<style scoped>\n    .dataframe tbody tr th:only-of-type {\n        vertical-align: middle;\n    }\n\n    .dataframe tbody tr th {\n        vertical-align: top;\n    }\n\n    .dataframe thead th {\n        text-align: right;\n    }\n</style>\n<table border=\"1\" class=\"dataframe\">\n  <thead>\n    <tr style=\"text-align: right;\">\n      <th></th>\n      <th>id</th>\n      <th>name</th>\n      <th>chara_id</th>\n      <th>cost</th>\n      <th>base_agi</th>\n      <th>base_rarity</th>\n      <th>growth_board3_id</th>\n      <th>base_pdef</th>\n      <th>delta_agi</th>\n      <th>dex</th>\n      <th>...</th>\n      <th>hit</th>\n      <th>base_mdef</th>\n      <th>growth_board2_id</th>\n      <th>growth_board9_id</th>\n      <th>command_skill3_id</th>\n      <th>published_at</th>\n      <th>command_unique_skill_id</th>\n      <th>dress_type</th>\n      <th>base_hp</th>\n      <th>description</th>\n    </tr>\n  </thead>\n  <tbody>\n    <tr>\n      <th>0</th>\n      <td>1010001</td>\n      <td>聖翔音楽学園</td>\n      <td>101</td>\n      <td>6</td>\n      <td>94</td>\n      <td>2</td>\n      <td>11101301</td>\n      <td>77</td>\n      <td>1560</td>\n      <td>5</td>\n      <td>...</td>\n      <td>0</td>\n      <td>75</td>\n      <td>11101201</td>\n      <td>11101901</td>\n      <td>11</td>\n      <td>1540105200</td>\n      <td>12</td>\n      <td>0</td>\n      <td>1336</td>\n      <td>みんなを守る盾役。通常ダメージを防ぐバリアを張ることで長く舞台に残ることができる。</td>\n    </tr>\n    <tr>\n      <th>1</th>\n      <td>1010002</td>\n      <td>太陽の国の騎士</td>\n      <td>101</td>\n      <td>9</td>\n      <td>129</td>\n      <td>3</td>\n      <td>11105301</td>\n      <td>58</td>\n      <td>2130</td>\n      <td>5</td>\n      <td>...</td>\n      <td>0</td>\n      <td>90</td>\n      <td>11105201</td>\n      <td>11105901</td>\n      <td>16</td>\n      <td>1540105200</td>\n      <td>17</td>\n      <td>0</td>\n      <td>1128</td>\n      <td>バランス良いステータスを持つため、様々なステージで活躍できる。敵役単体に大ダメージを与えるク...</td>\n    </tr>\n    <tr>\n      <th>2</th>\n      <td>1010003</td>\n      <td>銃士ダルタニャン</td>\n      <td>101</td>\n      <td>12</td>\n      <td>165</td>\n      <td>4</td>\n      <td>11106301</td>\n      <td>74</td>\n      <td>2730</td>\n      <td>5</td>\n      <td>...</td>\n      <td>0</td>\n      <td>78</td>\n      <td>11106201</td>\n      <td>11106901</td>\n      <td>21</td>\n      <td>1540105200</td>\n      <td>22</td>\n      <td>0</td>\n      <td>1007</td>\n      <td>高いACTパワーを持ち、ダメージを与えるのが得意。敵役の防御力を下げつつ、自ら全体攻撃のクラ...</td>\n    </tr>\n    <tr>\n      <th>3</th>\n      <td>1020001</td>\n      <td>聖翔音楽学園</td>\n      <td>102</td>\n      <td>6</td>\n      <td>120</td>\n      <td>2</td>\n      <td>11101301</td>\n      <td>53</td>\n      <td>1990</td>\n      <td>5</td>\n      <td>...</td>\n      <td>0</td>\n      <td>51</td>\n      <td>11101201</td>\n      <td>11101901</td>\n      <td>26</td>\n      <td>1540105200</td>\n      <td>27</td>\n      <td>0</td>\n      <td>794</td>\n      <td>高いACTパワーを持ち、ダメージを与えるのが得意。敵役のACTパワーを低下させるクライマック...</td>\n    </tr>\n    <tr>\n      <th>4</th>\n      <td>1020002</td>\n      <td>黒獅子の国の騎士</td>\n      <td>102</td>\n      <td>9</td>\n      <td>139</td>\n      <td>3</td>\n      <td>11105301</td>\n      <td>77</td>\n      <td>2290</td>\n      <td>5</td>\n      <td>...</td>\n      <td>0</td>\n      <td>52</td>\n      <td>11105201</td>\n      <td>11105901</td>\n      <td>31</td>\n      <td>1540105200</td>\n      <td>32</td>\n      <td>0</td>\n      <td>900</td>\n      <td>高いACTパワーを持ち、ダメージを与えるのが得意。クライマックスACTで敵役にダメージを与え...</td>\n    </tr>\n  </tbody>\n</table>\n<p>5 rows × 46 columns</p>\n</div>"
     },
     "metadata": {},
     "execution_count": 21
    }
   ],
   "source": [
    "\n",
    "ddata.head()"
   ]
  },
  {
   "cell_type": "code",
   "execution_count": 26,
   "metadata": {},
   "outputs": [
    {
     "output_type": "execute_result",
     "data": {
      "text/plain": "          id  name  chara_id  cost  base_agi  base_rarity growth_board3_id  \\\n164  1010009  怪傑ゾロ       101    12       178            4         13204301   \n\n     base_pdef  delta_agi  dex  ... hit  base_mdef growth_board2_id  \\\n164         52       2950    5  ...   0         76         13204201   \n\n     growth_board9_id  command_skill3_id published_at  \\\n164          13204901               1648   1581577200   \n\n     command_unique_skill_id dress_type base_hp  \\\n164                     1649          0     885   \n\n                                           description  \n164  敵役に対しては刻印付与や継続プラス効果解除を行い、味方全体には、クライマックスACTで被ダメ...  \n\n[1 rows x 46 columns]",
      "text/html": "<div>\n<style scoped>\n    .dataframe tbody tr th:only-of-type {\n        vertical-align: middle;\n    }\n\n    .dataframe tbody tr th {\n        vertical-align: top;\n    }\n\n    .dataframe thead th {\n        text-align: right;\n    }\n</style>\n<table border=\"1\" class=\"dataframe\">\n  <thead>\n    <tr style=\"text-align: right;\">\n      <th></th>\n      <th>id</th>\n      <th>name</th>\n      <th>chara_id</th>\n      <th>cost</th>\n      <th>base_agi</th>\n      <th>base_rarity</th>\n      <th>growth_board3_id</th>\n      <th>base_pdef</th>\n      <th>delta_agi</th>\n      <th>dex</th>\n      <th>...</th>\n      <th>hit</th>\n      <th>base_mdef</th>\n      <th>growth_board2_id</th>\n      <th>growth_board9_id</th>\n      <th>command_skill3_id</th>\n      <th>published_at</th>\n      <th>command_unique_skill_id</th>\n      <th>dress_type</th>\n      <th>base_hp</th>\n      <th>description</th>\n    </tr>\n  </thead>\n  <tbody>\n    <tr>\n      <th>164</th>\n      <td>1010009</td>\n      <td>怪傑ゾロ</td>\n      <td>101</td>\n      <td>12</td>\n      <td>178</td>\n      <td>4</td>\n      <td>13204301</td>\n      <td>52</td>\n      <td>2950</td>\n      <td>5</td>\n      <td>...</td>\n      <td>0</td>\n      <td>76</td>\n      <td>13204201</td>\n      <td>13204901</td>\n      <td>1648</td>\n      <td>1581577200</td>\n      <td>1649</td>\n      <td>0</td>\n      <td>885</td>\n      <td>敵役に対しては刻印付与や継続プラス効果解除を行い、味方全体には、クライマックスACTで被ダメ...</td>\n    </tr>\n  </tbody>\n</table>\n<p>1 rows × 46 columns</p>\n</div>"
     },
     "metadata": {},
     "execution_count": 26
    }
   ],
   "source": [
    "ddata[ddata['id'] == '1010009']"
   ]
  },
  {
   "cell_type": "markdown",
   "metadata": {},
   "source": [
    "数值型列：base_agi,base_pdef,delta_agi,dex,delta_pdef, base_atk, delta_atk, delta_hp, delta_mdef, hit(不归一化), base_mdef, base_hp\n",
    "\n",
    "category型： growth_board3_id, growth_board7_id, growth_board1_id, party_skill_type, growth_board6_id, attribute_id, growth_board4_id, auto_skill2_id, party_skill1_id, auto_skill2_type, auto_skill1_id, command_skill1_id, auto_skill1_type, attack_type, growth_board5_id, command_skill2_id, auto_skill3_type, auto_skill3_id, growth_board8_id, growth_board2_id, growth_board9_id, command_skill3_id, command_unique_skill_id, dress_type, \n",
    "\n",
    "文字类型：description"
   ]
  },
  {
   "cell_type": "code",
   "execution_count": 7,
   "metadata": {},
   "outputs": [],
   "source": [
    "class LevelOps(SqlOps):\n",
    "    def __init__(self):\n",
    "        super(LevelOps, self).__init__()\n",
    "        self.table = 'Level'\n",
    "        self.clos = ''\n",
    "    \n",
    "    def find_all(self):\n",
    "        sqls = 'SELECT * FROM {}'.format(self.table)\n",
    "        df = pd.read_sql_query(sqls, self.conn)\n",
    "        return df\n",
    "    \n",
    "    def update(self, data):\n",
    "        sqls = 'REPLACE INTO {} VALUES({}?)'.format(self.table, '?,'*(len(data[0]) - 1))\n",
    "        print(sqls)\n",
    "        try:\n",
    "            self.c.executemany(sqls, iter(data))\n",
    "            self.conn.commit()\n",
    "        except Exception as e:\n",
    "            print(\"error: \", e)\n",
    "            self.conn.rollback()"
   ]
  },
  {
   "cell_type": "code",
   "execution_count": 8,
   "metadata": {},
   "outputs": [],
   "source": [
    "\n",
    "Level = LevelOps()\n",
    "ldata = Level.find_all()"
   ]
  },
  {
   "cell_type": "code",
   "execution_count": 9,
   "metadata": {},
   "outputs": [],
   "source": [
    "ldata = ldata[['id', 'level']]\n",
    "ldata = ldata.set_index('id')"
   ]
  },
  {
   "cell_type": "code",
   "execution_count": 10,
   "metadata": {},
   "outputs": [
    {
     "output_type": "execute_result",
     "data": {
      "text/plain": "         level\nid            \n1010009      2\n1020005      2\n1020007      3\n1020008      2\n1020009      5",
      "text/html": "<div>\n<style scoped>\n    .dataframe tbody tr th:only-of-type {\n        vertical-align: middle;\n    }\n\n    .dataframe tbody tr th {\n        vertical-align: top;\n    }\n\n    .dataframe thead th {\n        text-align: right;\n    }\n</style>\n<table border=\"1\" class=\"dataframe\">\n  <thead>\n    <tr style=\"text-align: right;\">\n      <th></th>\n      <th>level</th>\n    </tr>\n    <tr>\n      <th>id</th>\n      <th></th>\n    </tr>\n  </thead>\n  <tbody>\n    <tr>\n      <th>1010009</th>\n      <td>2</td>\n    </tr>\n    <tr>\n      <th>1020005</th>\n      <td>2</td>\n    </tr>\n    <tr>\n      <th>1020007</th>\n      <td>3</td>\n    </tr>\n    <tr>\n      <th>1020008</th>\n      <td>2</td>\n    </tr>\n    <tr>\n      <th>1020009</th>\n      <td>5</td>\n    </tr>\n  </tbody>\n</table>\n</div>"
     },
     "metadata": {},
     "execution_count": 10
    }
   ],
   "source": [
    "ldata.head()"
   ]
  },
  {
   "cell_type": "code",
   "execution_count": 30,
   "metadata": {},
   "outputs": [],
   "source": [
    "ddata = ddata[ddata['base_rarity'] == 4]\n",
    "ddata = ddata[['id', 'base_agi','base_pdef','delta_agi','dex','delta_pdef', 'base_atk', 'delta_atk', 'delta_hp', 'delta_mdef', 'hit', 'base_mdef', 'base_hp', 'growth_board3_id', 'growth_board7_id', 'growth_board1_id', 'party_skill_type', 'growth_board6_id', 'attribute_id', 'growth_board4_id', 'auto_skill2_id', 'party_skill_id', 'auto_skill2_type', 'auto_skill1_id', 'command_skill1_id', 'auto_skill1_type', 'attack_type', 'growth_board5_id', 'command_skill2_id', 'auto_skill3_type', 'auto_skill3_id', 'growth_board8_id', 'growth_board2_id', 'growth_board9_id', 'command_skill3_id', 'command_unique_skill_id', 'dress_type']]\n",
    "ddata['id'] = ddata['id'].astype(int)\n",
    "# ddata = ddata.set_index('id')"
   ]
  },
  {
   "cell_type": "code",
   "execution_count": 33,
   "metadata": {},
   "outputs": [],
   "source": [
    "ddata = ddata.set_index('id')"
   ]
  },
  {
   "cell_type": "code",
   "execution_count": 34,
   "metadata": {},
   "outputs": [
    {
     "output_type": "execute_result",
     "data": {
      "text/plain": "         base_agi  base_pdef  delta_agi  dex  delta_pdef  base_atk  delta_atk  \\\nid                                                                              \n1010003       165         74       2730    5        1220       156       2580   \n1020003       160         76       2640    5        1260       163       2700   \n1030003       187         73       3090    5        1210       140       2310   \n1050002       134        134       2210    5        2210        93       1540   \n1060003       170         63       2810    5        1040       176       2910   \n\n         delta_hp  delta_mdef  hit  ...  growth_board5_id  command_skill2_id  \\\nid                                  ...                                        \n1010003     33180        1290    0  ...          11106501                 20   \n1020003     38100        1250    0  ...          11106501                 35   \n1030003     37630        1260    0  ...          12104501                 50   \n1050002     59910        1580    0  ...          11105501                 75   \n1060003     26340        1010    0  ...          13202501                 90   \n\n        auto_skill3_type auto_skill3_id growth_board8_id  growth_board2_id  \\\nid                                                                           \n1010003                2          20024         11106801          11106201   \n1020003                2          20024         11106801          11106201   \n1030003                1          10076         12104801          12104201   \n1050002                2          20024         11105801          11105201   \n1060003                1          10074         13202801          13202201   \n\n        growth_board9_id  command_skill3_id command_unique_skill_id dress_type  \nid                                                                              \n1010003         11106901                 21                      22          0  \n1020003         11106901                 36                      37          0  \n1030003         12104901                 51                      52          0  \n1050002         11105901                 76                      77          0  \n1060003         13202901                 91                      92          0  \n\n[5 rows x 36 columns]",
      "text/html": "<div>\n<style scoped>\n    .dataframe tbody tr th:only-of-type {\n        vertical-align: middle;\n    }\n\n    .dataframe tbody tr th {\n        vertical-align: top;\n    }\n\n    .dataframe thead th {\n        text-align: right;\n    }\n</style>\n<table border=\"1\" class=\"dataframe\">\n  <thead>\n    <tr style=\"text-align: right;\">\n      <th></th>\n      <th>base_agi</th>\n      <th>base_pdef</th>\n      <th>delta_agi</th>\n      <th>dex</th>\n      <th>delta_pdef</th>\n      <th>base_atk</th>\n      <th>delta_atk</th>\n      <th>delta_hp</th>\n      <th>delta_mdef</th>\n      <th>hit</th>\n      <th>...</th>\n      <th>growth_board5_id</th>\n      <th>command_skill2_id</th>\n      <th>auto_skill3_type</th>\n      <th>auto_skill3_id</th>\n      <th>growth_board8_id</th>\n      <th>growth_board2_id</th>\n      <th>growth_board9_id</th>\n      <th>command_skill3_id</th>\n      <th>command_unique_skill_id</th>\n      <th>dress_type</th>\n    </tr>\n    <tr>\n      <th>id</th>\n      <th></th>\n      <th></th>\n      <th></th>\n      <th></th>\n      <th></th>\n      <th></th>\n      <th></th>\n      <th></th>\n      <th></th>\n      <th></th>\n      <th></th>\n      <th></th>\n      <th></th>\n      <th></th>\n      <th></th>\n      <th></th>\n      <th></th>\n      <th></th>\n      <th></th>\n      <th></th>\n      <th></th>\n    </tr>\n  </thead>\n  <tbody>\n    <tr>\n      <th>1010003</th>\n      <td>165</td>\n      <td>74</td>\n      <td>2730</td>\n      <td>5</td>\n      <td>1220</td>\n      <td>156</td>\n      <td>2580</td>\n      <td>33180</td>\n      <td>1290</td>\n      <td>0</td>\n      <td>...</td>\n      <td>11106501</td>\n      <td>20</td>\n      <td>2</td>\n      <td>20024</td>\n      <td>11106801</td>\n      <td>11106201</td>\n      <td>11106901</td>\n      <td>21</td>\n      <td>22</td>\n      <td>0</td>\n    </tr>\n    <tr>\n      <th>1020003</th>\n      <td>160</td>\n      <td>76</td>\n      <td>2640</td>\n      <td>5</td>\n      <td>1260</td>\n      <td>163</td>\n      <td>2700</td>\n      <td>38100</td>\n      <td>1250</td>\n      <td>0</td>\n      <td>...</td>\n      <td>11106501</td>\n      <td>35</td>\n      <td>2</td>\n      <td>20024</td>\n      <td>11106801</td>\n      <td>11106201</td>\n      <td>11106901</td>\n      <td>36</td>\n      <td>37</td>\n      <td>0</td>\n    </tr>\n    <tr>\n      <th>1030003</th>\n      <td>187</td>\n      <td>73</td>\n      <td>3090</td>\n      <td>5</td>\n      <td>1210</td>\n      <td>140</td>\n      <td>2310</td>\n      <td>37630</td>\n      <td>1260</td>\n      <td>0</td>\n      <td>...</td>\n      <td>12104501</td>\n      <td>50</td>\n      <td>1</td>\n      <td>10076</td>\n      <td>12104801</td>\n      <td>12104201</td>\n      <td>12104901</td>\n      <td>51</td>\n      <td>52</td>\n      <td>0</td>\n    </tr>\n    <tr>\n      <th>1050002</th>\n      <td>134</td>\n      <td>134</td>\n      <td>2210</td>\n      <td>5</td>\n      <td>2210</td>\n      <td>93</td>\n      <td>1540</td>\n      <td>59910</td>\n      <td>1580</td>\n      <td>0</td>\n      <td>...</td>\n      <td>11105501</td>\n      <td>75</td>\n      <td>2</td>\n      <td>20024</td>\n      <td>11105801</td>\n      <td>11105201</td>\n      <td>11105901</td>\n      <td>76</td>\n      <td>77</td>\n      <td>0</td>\n    </tr>\n    <tr>\n      <th>1060003</th>\n      <td>170</td>\n      <td>63</td>\n      <td>2810</td>\n      <td>5</td>\n      <td>1040</td>\n      <td>176</td>\n      <td>2910</td>\n      <td>26340</td>\n      <td>1010</td>\n      <td>0</td>\n      <td>...</td>\n      <td>13202501</td>\n      <td>90</td>\n      <td>1</td>\n      <td>10074</td>\n      <td>13202801</td>\n      <td>13202201</td>\n      <td>13202901</td>\n      <td>91</td>\n      <td>92</td>\n      <td>0</td>\n    </tr>\n  </tbody>\n</table>\n<p>5 rows × 36 columns</p>\n</div>"
     },
     "metadata": {},
     "execution_count": 34
    }
   ],
   "source": [
    "ddata.head()"
   ]
  },
  {
   "cell_type": "code",
   "execution_count": 36,
   "metadata": {},
   "outputs": [],
   "source": [
    "train = ddata.join(ldata)"
   ]
  },
  {
   "cell_type": "code",
   "execution_count": 37,
   "metadata": {},
   "outputs": [
    {
     "output_type": "execute_result",
     "data": {
      "text/plain": "         base_agi  base_pdef  delta_agi  dex  delta_pdef  base_atk  delta_atk  \\\nid                                                                              \n1010003       165         74       2730    5        1220       156       2580   \n1020003       160         76       2640    5        1260       163       2700   \n1030003       187         73       3090    5        1210       140       2310   \n1050002       134        134       2210    5        2210        93       1540   \n1060003       170         63       2810    5        1040       176       2910   \n\n         delta_hp  delta_mdef  hit  ...  command_skill2_id  auto_skill3_type  \\\nid                                  ...                                        \n1010003     33180        1290    0  ...                 20                 2   \n1020003     38100        1250    0  ...                 35                 2   \n1030003     37630        1260    0  ...                 50                 1   \n1050002     59910        1580    0  ...                 75                 2   \n1060003     26340        1010    0  ...                 90                 1   \n\n        auto_skill3_id growth_board8_id growth_board2_id  growth_board9_id  \\\nid                                                                           \n1010003          20024         11106801         11106201          11106901   \n1020003          20024         11106801         11106201          11106901   \n1030003          10076         12104801         12104201          12104901   \n1050002          20024         11105801         11105201          11105901   \n1060003          10074         13202801         13202201          13202901   \n\n        command_skill3_id  command_unique_skill_id dress_type level  \nid                                                                   \n1010003                21                       22          0   NaN  \n1020003                36                       37          0   NaN  \n1030003                51                       52          0   NaN  \n1050002                76                       77          0   NaN  \n1060003                91                       92          0   NaN  \n\n[5 rows x 37 columns]",
      "text/html": "<div>\n<style scoped>\n    .dataframe tbody tr th:only-of-type {\n        vertical-align: middle;\n    }\n\n    .dataframe tbody tr th {\n        vertical-align: top;\n    }\n\n    .dataframe thead th {\n        text-align: right;\n    }\n</style>\n<table border=\"1\" class=\"dataframe\">\n  <thead>\n    <tr style=\"text-align: right;\">\n      <th></th>\n      <th>base_agi</th>\n      <th>base_pdef</th>\n      <th>delta_agi</th>\n      <th>dex</th>\n      <th>delta_pdef</th>\n      <th>base_atk</th>\n      <th>delta_atk</th>\n      <th>delta_hp</th>\n      <th>delta_mdef</th>\n      <th>hit</th>\n      <th>...</th>\n      <th>command_skill2_id</th>\n      <th>auto_skill3_type</th>\n      <th>auto_skill3_id</th>\n      <th>growth_board8_id</th>\n      <th>growth_board2_id</th>\n      <th>growth_board9_id</th>\n      <th>command_skill3_id</th>\n      <th>command_unique_skill_id</th>\n      <th>dress_type</th>\n      <th>level</th>\n    </tr>\n    <tr>\n      <th>id</th>\n      <th></th>\n      <th></th>\n      <th></th>\n      <th></th>\n      <th></th>\n      <th></th>\n      <th></th>\n      <th></th>\n      <th></th>\n      <th></th>\n      <th></th>\n      <th></th>\n      <th></th>\n      <th></th>\n      <th></th>\n      <th></th>\n      <th></th>\n      <th></th>\n      <th></th>\n      <th></th>\n      <th></th>\n    </tr>\n  </thead>\n  <tbody>\n    <tr>\n      <th>1010003</th>\n      <td>165</td>\n      <td>74</td>\n      <td>2730</td>\n      <td>5</td>\n      <td>1220</td>\n      <td>156</td>\n      <td>2580</td>\n      <td>33180</td>\n      <td>1290</td>\n      <td>0</td>\n      <td>...</td>\n      <td>20</td>\n      <td>2</td>\n      <td>20024</td>\n      <td>11106801</td>\n      <td>11106201</td>\n      <td>11106901</td>\n      <td>21</td>\n      <td>22</td>\n      <td>0</td>\n      <td>NaN</td>\n    </tr>\n    <tr>\n      <th>1020003</th>\n      <td>160</td>\n      <td>76</td>\n      <td>2640</td>\n      <td>5</td>\n      <td>1260</td>\n      <td>163</td>\n      <td>2700</td>\n      <td>38100</td>\n      <td>1250</td>\n      <td>0</td>\n      <td>...</td>\n      <td>35</td>\n      <td>2</td>\n      <td>20024</td>\n      <td>11106801</td>\n      <td>11106201</td>\n      <td>11106901</td>\n      <td>36</td>\n      <td>37</td>\n      <td>0</td>\n      <td>NaN</td>\n    </tr>\n    <tr>\n      <th>1030003</th>\n      <td>187</td>\n      <td>73</td>\n      <td>3090</td>\n      <td>5</td>\n      <td>1210</td>\n      <td>140</td>\n      <td>2310</td>\n      <td>37630</td>\n      <td>1260</td>\n      <td>0</td>\n      <td>...</td>\n      <td>50</td>\n      <td>1</td>\n      <td>10076</td>\n      <td>12104801</td>\n      <td>12104201</td>\n      <td>12104901</td>\n      <td>51</td>\n      <td>52</td>\n      <td>0</td>\n      <td>NaN</td>\n    </tr>\n    <tr>\n      <th>1050002</th>\n      <td>134</td>\n      <td>134</td>\n      <td>2210</td>\n      <td>5</td>\n      <td>2210</td>\n      <td>93</td>\n      <td>1540</td>\n      <td>59910</td>\n      <td>1580</td>\n      <td>0</td>\n      <td>...</td>\n      <td>75</td>\n      <td>2</td>\n      <td>20024</td>\n      <td>11105801</td>\n      <td>11105201</td>\n      <td>11105901</td>\n      <td>76</td>\n      <td>77</td>\n      <td>0</td>\n      <td>NaN</td>\n    </tr>\n    <tr>\n      <th>1060003</th>\n      <td>170</td>\n      <td>63</td>\n      <td>2810</td>\n      <td>5</td>\n      <td>1040</td>\n      <td>176</td>\n      <td>2910</td>\n      <td>26340</td>\n      <td>1010</td>\n      <td>0</td>\n      <td>...</td>\n      <td>90</td>\n      <td>1</td>\n      <td>10074</td>\n      <td>13202801</td>\n      <td>13202201</td>\n      <td>13202901</td>\n      <td>91</td>\n      <td>92</td>\n      <td>0</td>\n      <td>NaN</td>\n    </tr>\n  </tbody>\n</table>\n<p>5 rows × 37 columns</p>\n</div>"
     },
     "metadata": {},
     "execution_count": 37
    }
   ],
   "source": [
    "train.head()"
   ]
  },
  {
   "cell_type": "code",
   "execution_count": 36,
   "metadata": {},
   "outputs": [
    {
     "output_type": "execute_result",
     "data": {
      "text/plain": "142"
     },
     "metadata": {},
     "execution_count": 36
    }
   ],
   "source": [
    "len(train)"
   ]
  },
  {
   "cell_type": "code",
   "execution_count": 39,
   "metadata": {},
   "outputs": [
    {
     "output_type": "execute_result",
     "data": {
      "text/plain": "Index(['base_agi', 'base_pdef', 'delta_agi', 'dex', 'delta_pdef', 'base_atk',\n       'delta_atk', 'delta_hp', 'delta_mdef', 'hit', 'base_mdef', 'base_hp',\n       'growth_board3_id', 'growth_board7_id', 'growth_board1_id',\n       'party_skill_type', 'growth_board6_id', 'attribute_id',\n       'growth_board4_id', 'auto_skill2_id', 'party_skill_id',\n       'auto_skill2_type', 'auto_skill1_id', 'command_skill1_id',\n       'auto_skill1_type', 'attack_type', 'growth_board5_id',\n       'command_skill2_id', 'auto_skill3_type', 'auto_skill3_id',\n       'growth_board8_id', 'growth_board2_id', 'growth_board9_id',\n       'command_skill3_id', 'command_unique_skill_id', 'dress_type', 'level'],\n      dtype='object')"
     },
     "metadata": {},
     "execution_count": 39
    }
   ],
   "source": [
    "train.columns"
   ]
  },
  {
   "cell_type": "code",
   "execution_count": 41,
   "metadata": {},
   "outputs": [],
   "source": [
    "train[['base_agi', 'base_pdef', 'delta_agi', 'delta_pdef','base_atk','delta_atk', 'delta_hp', 'delta_mdef', 'base_mdef', 'base_hp']] = train[['base_agi', 'base_pdef', 'delta_agi', 'delta_pdef','base_atk','delta_atk', 'delta_hp', 'delta_mdef', 'base_mdef', 'base_hp']].apply(lambda x: (x - np.min(x))/(np.max(x) - np.min(x)))"
   ]
  },
  {
   "cell_type": "code",
   "execution_count": 42,
   "metadata": {},
   "outputs": [
    {
     "output_type": "execute_result",
     "data": {
      "text/plain": "         base_agi  base_pdef  delta_agi  dex  delta_pdef  base_atk  delta_atk  \\\nid                                                                              \n1010003  0.616667   0.265487   0.564815    5    0.262032  0.356757   0.459916   \n1020003  0.533333   0.283186   0.481481    5    0.283422  0.394595   0.510549   \n1030003  0.983333   0.256637   0.898148    5    0.256684  0.270270   0.345992   \n1050002  0.100000   0.796460   0.083333    5    0.791444  0.016216   0.021097   \n1060003  0.700000   0.168142   0.638889    5    0.165775  0.464865   0.599156   \n\n         delta_hp  delta_mdef  hit  ...  command_skill2_id  auto_skill3_type  \\\nid                                  ...                                        \n1010003  0.229389    0.327684    0  ...                 20                 2   \n1020003  0.367358    0.305085    0  ...                 35                 2   \n1030003  0.354178    0.310734    0  ...                 50                 1   \n1050002  0.978968    0.491525    0  ...                 75                 2   \n1060003  0.037577    0.169492    0  ...                 90                 1   \n\n        auto_skill3_id growth_board8_id growth_board2_id  growth_board9_id  \\\nid                                                                           \n1010003          20024         11106801         11106201          11106901   \n1020003          20024         11106801         11106201          11106901   \n1030003          10076         12104801         12104201          12104901   \n1050002          20024         11105801         11105201          11105901   \n1060003          10074         13202801         13202201          13202901   \n\n        command_skill3_id  command_unique_skill_id dress_type level  \nid                                                                   \n1010003                21                       22          0   NaN  \n1020003                36                       37          0   NaN  \n1030003                51                       52          0   NaN  \n1050002                76                       77          0   NaN  \n1060003                91                       92          0   NaN  \n\n[5 rows x 37 columns]",
      "text/html": "<div>\n<style scoped>\n    .dataframe tbody tr th:only-of-type {\n        vertical-align: middle;\n    }\n\n    .dataframe tbody tr th {\n        vertical-align: top;\n    }\n\n    .dataframe thead th {\n        text-align: right;\n    }\n</style>\n<table border=\"1\" class=\"dataframe\">\n  <thead>\n    <tr style=\"text-align: right;\">\n      <th></th>\n      <th>base_agi</th>\n      <th>base_pdef</th>\n      <th>delta_agi</th>\n      <th>dex</th>\n      <th>delta_pdef</th>\n      <th>base_atk</th>\n      <th>delta_atk</th>\n      <th>delta_hp</th>\n      <th>delta_mdef</th>\n      <th>hit</th>\n      <th>...</th>\n      <th>command_skill2_id</th>\n      <th>auto_skill3_type</th>\n      <th>auto_skill3_id</th>\n      <th>growth_board8_id</th>\n      <th>growth_board2_id</th>\n      <th>growth_board9_id</th>\n      <th>command_skill3_id</th>\n      <th>command_unique_skill_id</th>\n      <th>dress_type</th>\n      <th>level</th>\n    </tr>\n    <tr>\n      <th>id</th>\n      <th></th>\n      <th></th>\n      <th></th>\n      <th></th>\n      <th></th>\n      <th></th>\n      <th></th>\n      <th></th>\n      <th></th>\n      <th></th>\n      <th></th>\n      <th></th>\n      <th></th>\n      <th></th>\n      <th></th>\n      <th></th>\n      <th></th>\n      <th></th>\n      <th></th>\n      <th></th>\n      <th></th>\n    </tr>\n  </thead>\n  <tbody>\n    <tr>\n      <th>1010003</th>\n      <td>0.616667</td>\n      <td>0.265487</td>\n      <td>0.564815</td>\n      <td>5</td>\n      <td>0.262032</td>\n      <td>0.356757</td>\n      <td>0.459916</td>\n      <td>0.229389</td>\n      <td>0.327684</td>\n      <td>0</td>\n      <td>...</td>\n      <td>20</td>\n      <td>2</td>\n      <td>20024</td>\n      <td>11106801</td>\n      <td>11106201</td>\n      <td>11106901</td>\n      <td>21</td>\n      <td>22</td>\n      <td>0</td>\n      <td>NaN</td>\n    </tr>\n    <tr>\n      <th>1020003</th>\n      <td>0.533333</td>\n      <td>0.283186</td>\n      <td>0.481481</td>\n      <td>5</td>\n      <td>0.283422</td>\n      <td>0.394595</td>\n      <td>0.510549</td>\n      <td>0.367358</td>\n      <td>0.305085</td>\n      <td>0</td>\n      <td>...</td>\n      <td>35</td>\n      <td>2</td>\n      <td>20024</td>\n      <td>11106801</td>\n      <td>11106201</td>\n      <td>11106901</td>\n      <td>36</td>\n      <td>37</td>\n      <td>0</td>\n      <td>NaN</td>\n    </tr>\n    <tr>\n      <th>1030003</th>\n      <td>0.983333</td>\n      <td>0.256637</td>\n      <td>0.898148</td>\n      <td>5</td>\n      <td>0.256684</td>\n      <td>0.270270</td>\n      <td>0.345992</td>\n      <td>0.354178</td>\n      <td>0.310734</td>\n      <td>0</td>\n      <td>...</td>\n      <td>50</td>\n      <td>1</td>\n      <td>10076</td>\n      <td>12104801</td>\n      <td>12104201</td>\n      <td>12104901</td>\n      <td>51</td>\n      <td>52</td>\n      <td>0</td>\n      <td>NaN</td>\n    </tr>\n    <tr>\n      <th>1050002</th>\n      <td>0.100000</td>\n      <td>0.796460</td>\n      <td>0.083333</td>\n      <td>5</td>\n      <td>0.791444</td>\n      <td>0.016216</td>\n      <td>0.021097</td>\n      <td>0.978968</td>\n      <td>0.491525</td>\n      <td>0</td>\n      <td>...</td>\n      <td>75</td>\n      <td>2</td>\n      <td>20024</td>\n      <td>11105801</td>\n      <td>11105201</td>\n      <td>11105901</td>\n      <td>76</td>\n      <td>77</td>\n      <td>0</td>\n      <td>NaN</td>\n    </tr>\n    <tr>\n      <th>1060003</th>\n      <td>0.700000</td>\n      <td>0.168142</td>\n      <td>0.638889</td>\n      <td>5</td>\n      <td>0.165775</td>\n      <td>0.464865</td>\n      <td>0.599156</td>\n      <td>0.037577</td>\n      <td>0.169492</td>\n      <td>0</td>\n      <td>...</td>\n      <td>90</td>\n      <td>1</td>\n      <td>10074</td>\n      <td>13202801</td>\n      <td>13202201</td>\n      <td>13202901</td>\n      <td>91</td>\n      <td>92</td>\n      <td>0</td>\n      <td>NaN</td>\n    </tr>\n  </tbody>\n</table>\n<p>5 rows × 37 columns</p>\n</div>"
     },
     "metadata": {},
     "execution_count": 42
    }
   ],
   "source": [
    "train.head()"
   ]
  },
  {
   "cell_type": "code",
   "execution_count": 43,
   "metadata": {},
   "outputs": [
    {
     "output_type": "execute_result",
     "data": {
      "text/plain": "         party_skill_type  attribute_id  auto_skill2_type  auto_skill1_type  \\\nid                                                                            \n1010003                 5             6                 2                 1   \n1020003                 5             6                 2                 1   \n1030003                 5             4                 2                 1   \n1050002                 5             5                 1                 1   \n1060003                 5             2                 2                 1   \n...                   ...           ...               ...               ...   \n1080008                 5             5                 2                 2   \n2040008                 5             1                 2                 2   \n2010007                 5             2                 1                 2   \n1020012                 5             6                 1                 2   \n1030013                 5             3                 1                 2   \n\n         attack_type  auto_skill3_type  dress_type  growth_board3_id_11101301  \\\nid                                                                              \n1010003            1                 2           0                          0   \n1020003            1                 2           0                          0   \n1030003            1                 1           0                          0   \n1050002            1                 2           0                          0   \n1060003            2                 1           0                          0   \n...              ...               ...         ...                        ...   \n1080008            2                 2           0                          0   \n2040008            2                 1           0                          0   \n2010007            1                 2           0                          0   \n1020012            2                 1           0                          0   \n1030013            2                 1           0                          0   \n\n         growth_board3_id_11102301  growth_board3_id_11103301  ...  \\\nid                                                             ...   \n1010003                          0                          0  ...   \n1020003                          0                          0  ...   \n1030003                          0                          0  ...   \n1050002                          0                          0  ...   \n1060003                          0                          0  ...   \n...                            ...                        ...  ...   \n1080008                          0                          0  ...   \n2040008                          0                          0  ...   \n2010007                          0                          0  ...   \n1020012                          0                          0  ...   \n1030013                          0                          0  ...   \n\n         command_unique_skill_id_869  command_unique_skill_id_874  \\\nid                                                                  \n1010003                            0                            0   \n1020003                            0                            0   \n1030003                            0                            0   \n1050002                            0                            0   \n1060003                            0                            0   \n...                              ...                          ...   \n1080008                            0                            0   \n2040008                            0                            0   \n2010007                            0                            0   \n1020012                            0                            0   \n1030013                            0                            0   \n\n         command_unique_skill_id_892  command_unique_skill_id_897  \\\nid                                                                  \n1010003                            0                            0   \n1020003                            0                            0   \n1030003                            0                            0   \n1050002                            0                            0   \n1060003                            0                            0   \n...                              ...                          ...   \n1080008                            0                            0   \n2040008                            0                            0   \n2010007                            0                            0   \n1020012                            0                            0   \n1030013                            0                            0   \n\n         command_unique_skill_id_902  command_unique_skill_id_92  \\\nid                                                                 \n1010003                            0                           0   \n1020003                            0                           0   \n1030003                            0                           0   \n1050002                            0                           0   \n1060003                            0                           1   \n...                              ...                         ...   \n1080008                            0                           0   \n2040008                            0                           0   \n2010007                            0                           0   \n1020012                            0                           0   \n1030013                            0                           0   \n\n         command_unique_skill_id_932  command_unique_skill_id_953  \\\nid                                                                  \n1010003                            0                            0   \n1020003                            0                            0   \n1030003                            0                            0   \n1050002                            0                            0   \n1060003                            0                            0   \n...                              ...                          ...   \n1080008                            0                            0   \n2040008                            0                            0   \n2010007                            0                            0   \n1020012                            0                            0   \n1030013                            0                            0   \n\n         command_unique_skill_id_963  command_unique_skill_id_990  \nid                                                                 \n1010003                            0                            0  \n1020003                            0                            0  \n1030003                            0                            0  \n1050002                            0                            0  \n1060003                            0                            0  \n...                              ...                          ...  \n1080008                            0                            0  \n2040008                            0                            0  \n2010007                            0                            0  \n1020012                            0                            0  \n1030013                            0                            0  \n\n[142 rows x 1041 columns]",
      "text/html": "<div>\n<style scoped>\n    .dataframe tbody tr th:only-of-type {\n        vertical-align: middle;\n    }\n\n    .dataframe tbody tr th {\n        vertical-align: top;\n    }\n\n    .dataframe thead th {\n        text-align: right;\n    }\n</style>\n<table border=\"1\" class=\"dataframe\">\n  <thead>\n    <tr style=\"text-align: right;\">\n      <th></th>\n      <th>party_skill_type</th>\n      <th>attribute_id</th>\n      <th>auto_skill2_type</th>\n      <th>auto_skill1_type</th>\n      <th>attack_type</th>\n      <th>auto_skill3_type</th>\n      <th>dress_type</th>\n      <th>growth_board3_id_11101301</th>\n      <th>growth_board3_id_11102301</th>\n      <th>growth_board3_id_11103301</th>\n      <th>...</th>\n      <th>command_unique_skill_id_869</th>\n      <th>command_unique_skill_id_874</th>\n      <th>command_unique_skill_id_892</th>\n      <th>command_unique_skill_id_897</th>\n      <th>command_unique_skill_id_902</th>\n      <th>command_unique_skill_id_92</th>\n      <th>command_unique_skill_id_932</th>\n      <th>command_unique_skill_id_953</th>\n      <th>command_unique_skill_id_963</th>\n      <th>command_unique_skill_id_990</th>\n    </tr>\n    <tr>\n      <th>id</th>\n      <th></th>\n      <th></th>\n      <th></th>\n      <th></th>\n      <th></th>\n      <th></th>\n      <th></th>\n      <th></th>\n      <th></th>\n      <th></th>\n      <th></th>\n      <th></th>\n      <th></th>\n      <th></th>\n      <th></th>\n      <th></th>\n      <th></th>\n      <th></th>\n      <th></th>\n      <th></th>\n      <th></th>\n    </tr>\n  </thead>\n  <tbody>\n    <tr>\n      <th>1010003</th>\n      <td>5</td>\n      <td>6</td>\n      <td>2</td>\n      <td>1</td>\n      <td>1</td>\n      <td>2</td>\n      <td>0</td>\n      <td>0</td>\n      <td>0</td>\n      <td>0</td>\n      <td>...</td>\n      <td>0</td>\n      <td>0</td>\n      <td>0</td>\n      <td>0</td>\n      <td>0</td>\n      <td>0</td>\n      <td>0</td>\n      <td>0</td>\n      <td>0</td>\n      <td>0</td>\n    </tr>\n    <tr>\n      <th>1020003</th>\n      <td>5</td>\n      <td>6</td>\n      <td>2</td>\n      <td>1</td>\n      <td>1</td>\n      <td>2</td>\n      <td>0</td>\n      <td>0</td>\n      <td>0</td>\n      <td>0</td>\n      <td>...</td>\n      <td>0</td>\n      <td>0</td>\n      <td>0</td>\n      <td>0</td>\n      <td>0</td>\n      <td>0</td>\n      <td>0</td>\n      <td>0</td>\n      <td>0</td>\n      <td>0</td>\n    </tr>\n    <tr>\n      <th>1030003</th>\n      <td>5</td>\n      <td>4</td>\n      <td>2</td>\n      <td>1</td>\n      <td>1</td>\n      <td>1</td>\n      <td>0</td>\n      <td>0</td>\n      <td>0</td>\n      <td>0</td>\n      <td>...</td>\n      <td>0</td>\n      <td>0</td>\n      <td>0</td>\n      <td>0</td>\n      <td>0</td>\n      <td>0</td>\n      <td>0</td>\n      <td>0</td>\n      <td>0</td>\n      <td>0</td>\n    </tr>\n    <tr>\n      <th>1050002</th>\n      <td>5</td>\n      <td>5</td>\n      <td>1</td>\n      <td>1</td>\n      <td>1</td>\n      <td>2</td>\n      <td>0</td>\n      <td>0</td>\n      <td>0</td>\n      <td>0</td>\n      <td>...</td>\n      <td>0</td>\n      <td>0</td>\n      <td>0</td>\n      <td>0</td>\n      <td>0</td>\n      <td>0</td>\n      <td>0</td>\n      <td>0</td>\n      <td>0</td>\n      <td>0</td>\n    </tr>\n    <tr>\n      <th>1060003</th>\n      <td>5</td>\n      <td>2</td>\n      <td>2</td>\n      <td>1</td>\n      <td>2</td>\n      <td>1</td>\n      <td>0</td>\n      <td>0</td>\n      <td>0</td>\n      <td>0</td>\n      <td>...</td>\n      <td>0</td>\n      <td>0</td>\n      <td>0</td>\n      <td>0</td>\n      <td>0</td>\n      <td>1</td>\n      <td>0</td>\n      <td>0</td>\n      <td>0</td>\n      <td>0</td>\n    </tr>\n    <tr>\n      <th>...</th>\n      <td>...</td>\n      <td>...</td>\n      <td>...</td>\n      <td>...</td>\n      <td>...</td>\n      <td>...</td>\n      <td>...</td>\n      <td>...</td>\n      <td>...</td>\n      <td>...</td>\n      <td>...</td>\n      <td>...</td>\n      <td>...</td>\n      <td>...</td>\n      <td>...</td>\n      <td>...</td>\n      <td>...</td>\n      <td>...</td>\n      <td>...</td>\n      <td>...</td>\n      <td>...</td>\n    </tr>\n    <tr>\n      <th>1080008</th>\n      <td>5</td>\n      <td>5</td>\n      <td>2</td>\n      <td>2</td>\n      <td>2</td>\n      <td>2</td>\n      <td>0</td>\n      <td>0</td>\n      <td>0</td>\n      <td>0</td>\n      <td>...</td>\n      <td>0</td>\n      <td>0</td>\n      <td>0</td>\n      <td>0</td>\n      <td>0</td>\n      <td>0</td>\n      <td>0</td>\n      <td>0</td>\n      <td>0</td>\n      <td>0</td>\n    </tr>\n    <tr>\n      <th>2040008</th>\n      <td>5</td>\n      <td>1</td>\n      <td>2</td>\n      <td>2</td>\n      <td>2</td>\n      <td>1</td>\n      <td>0</td>\n      <td>0</td>\n      <td>0</td>\n      <td>0</td>\n      <td>...</td>\n      <td>0</td>\n      <td>0</td>\n      <td>0</td>\n      <td>0</td>\n      <td>0</td>\n      <td>0</td>\n      <td>0</td>\n      <td>0</td>\n      <td>0</td>\n      <td>0</td>\n    </tr>\n    <tr>\n      <th>2010007</th>\n      <td>5</td>\n      <td>2</td>\n      <td>1</td>\n      <td>2</td>\n      <td>1</td>\n      <td>2</td>\n      <td>0</td>\n      <td>0</td>\n      <td>0</td>\n      <td>0</td>\n      <td>...</td>\n      <td>0</td>\n      <td>0</td>\n      <td>0</td>\n      <td>0</td>\n      <td>0</td>\n      <td>0</td>\n      <td>0</td>\n      <td>0</td>\n      <td>0</td>\n      <td>0</td>\n    </tr>\n    <tr>\n      <th>1020012</th>\n      <td>5</td>\n      <td>6</td>\n      <td>1</td>\n      <td>2</td>\n      <td>2</td>\n      <td>1</td>\n      <td>0</td>\n      <td>0</td>\n      <td>0</td>\n      <td>0</td>\n      <td>...</td>\n      <td>0</td>\n      <td>0</td>\n      <td>0</td>\n      <td>0</td>\n      <td>0</td>\n      <td>0</td>\n      <td>0</td>\n      <td>0</td>\n      <td>0</td>\n      <td>0</td>\n    </tr>\n    <tr>\n      <th>1030013</th>\n      <td>5</td>\n      <td>3</td>\n      <td>1</td>\n      <td>2</td>\n      <td>2</td>\n      <td>1</td>\n      <td>0</td>\n      <td>0</td>\n      <td>0</td>\n      <td>0</td>\n      <td>...</td>\n      <td>0</td>\n      <td>0</td>\n      <td>0</td>\n      <td>0</td>\n      <td>0</td>\n      <td>0</td>\n      <td>0</td>\n      <td>0</td>\n      <td>0</td>\n      <td>0</td>\n    </tr>\n  </tbody>\n</table>\n<p>142 rows × 1041 columns</p>\n</div>"
     },
     "metadata": {},
     "execution_count": 43
    }
   ],
   "source": [
    "pd.get_dummies(train[['growth_board3_id', 'growth_board7_id', 'growth_board1_id',\n",
    "       'party_skill_type', 'growth_board6_id', 'attribute_id',\n",
    "       'growth_board4_id', 'auto_skill2_id', 'party_skill_id',\n",
    "       'auto_skill2_type', 'auto_skill1_id', 'command_skill1_id',\n",
    "       'auto_skill1_type', 'attack_type', 'growth_board5_id',\n",
    "       'command_skill2_id', 'auto_skill3_type', 'auto_skill3_id',\n",
    "       'growth_board8_id', 'growth_board2_id', 'growth_board9_id',\n",
    "       'command_skill3_id', 'command_unique_skill_id', 'dress_type']])"
   ]
  },
  {
   "cell_type": "code",
   "execution_count": null,
   "metadata": {},
   "outputs": [],
   "source": []
  }
 ],
 "metadata": {
  "language_info": {
   "codemirror_mode": {
    "name": "ipython",
    "version": 3
   },
   "file_extension": ".py",
   "mimetype": "text/x-python",
   "name": "python",
   "nbconvert_exporter": "python",
   "pygments_lexer": "ipython3",
   "version": "3.6.3-final"
  },
  "orig_nbformat": 2,
  "kernelspec": {
   "name": "python36364bitvenvvenve91d3e556ae849ffa059e0679a3ea2bf",
   "display_name": "Python 3.6.3 64-bit ('.venv': venv)"
  }
 },
 "nbformat": 4,
 "nbformat_minor": 2
}